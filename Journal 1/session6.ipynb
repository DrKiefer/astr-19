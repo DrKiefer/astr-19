{
 "cells": [
  {
   "cell_type": "markdown",
   "id": "2b3d8617-786e-4811-9abe-b231a263cf94",
   "metadata": {},
   "source": [
    "The below function initializes numpy and creates a linespace for x. It will create 1000 increments between 0 and 2pi. sinX operates on the array adding a sin function to the value in a new array"
   ]
  },
  {
   "cell_type": "code",
   "execution_count": null,
   "id": "0b7494ad-ceea-4270-bc5b-016dee42b5ac",
   "metadata": {},
   "outputs": [],
   "source": [
    "import numpy as np\n",
    "x = np.linspace(0, (2.0*np.pi), 1000)\n",
    "sinX = np.sin(x)\n",
    "\n"
   ]
  },
  {
   "cell_type": "markdown",
   "id": "e0ef73de-8830-4c88-9395-1eac56e8a0b4",
   "metadata": {},
   "source": [
    "the below function creates a cosine value for the array x. The following line saves the values in a text document that are formatted properly."
   ]
  },
  {
   "cell_type": "code",
   "execution_count": null,
   "id": "6fdf1b94-97db-4cc1-b799-7e2d6991ed95",
   "metadata": {},
   "outputs": [],
   "source": [
    "cosX = np.cos(x)\n",
    "savetext = np.savetxt('sincostest.txt', np.transpose((x, sinX, cosX)), fmt= '%4.3f %4.3f %4.3f')"
   ]
  },
  {
   "cell_type": "markdown",
   "id": "fb135501-7676-42b7-af3b-9320c3f6ee1e",
   "metadata": {},
   "source": [
    "the below function reads through the generated text document and prints the first 10 rows"
   ]
  },
  {
   "cell_type": "code",
   "execution_count": null,
   "id": "5c187588-4e31-4ede-b2ae-a40ecbb0b054",
   "metadata": {},
   "outputs": [],
   "source": [
    "tenRows = np.loadtxt('sincostest.txt')\n",
    "for i in range(10):\n",
    "   print(tenRows[i])\n",
    "   "
   ]
  }
 ],
 "metadata": {
  "kernelspec": {
   "display_name": "Python 3 (ipykernel)",
   "language": "python",
   "name": "python3"
  },
  "language_info": {
   "codemirror_mode": {
    "name": "ipython",
    "version": 3
   },
   "file_extension": ".py",
   "mimetype": "text/x-python",
   "name": "python",
   "nbconvert_exporter": "python",
   "pygments_lexer": "ipython3",
   "version": "3.9.13"
  }
 },
 "nbformat": 4,
 "nbformat_minor": 5
}
