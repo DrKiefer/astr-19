{
 "cells": [
  {
   "cell_type": "markdown",
   "id": "ae19b64a",
   "metadata": {},
   "source": [
    "initializes matplotlib and numpy"
   ]
  },
  {
   "cell_type": "code",
   "execution_count": null,
   "id": "bf42ec9c",
   "metadata": {},
   "outputs": [],
   "source": [
    "%matplotlib inline\n",
    "import numpy as np\n",
    "import matplotlib.pyplot as plt"
   ]
  },
  {
   "cell_type": "markdown",
   "id": "c7567dc2",
   "metadata": {},
   "source": [
    "creates an array of numbers between 0 and 1 with 100 increments"
   ]
  },
  {
   "cell_type": "code",
   "execution_count": null,
   "id": "dace24b3",
   "metadata": {},
   "outputs": [],
   "source": [
    "x = np.linspace(0,1,100)"
   ]
  },
  {
   "cell_type": "markdown",
   "id": "da5fd0ce",
   "metadata": {},
   "source": [
    "the below function creates a y value for the exponenetial operator towards x"
   ]
  },
  {
   "cell_type": "code",
   "execution_count": null,
   "id": "7d5c0d5d",
   "metadata": {},
   "outputs": [],
   "source": [
    "y = np.exp(x)"
   ]
  },
  {
   "cell_type": "markdown",
   "id": "a207578e",
   "metadata": {},
   "source": [
    "the below lines create a plot of x vs exponent(x)"
   ]
  },
  {
   "cell_type": "code",
   "execution_count": null,
   "id": "78fc8e57",
   "metadata": {},
   "outputs": [],
   "source": [
    "plt.plot(x,y)\n",
    "plt.xlabel('Time[Milliseconds]')\n",
    "plt.ylabel('Awesomeness')\n",
    "plt.savefig('awesomeness.pdf', dpi=600)"
   ]
  }
 ],
 "metadata": {
  "kernelspec": {
   "display_name": "Python 3 (ipykernel)",
   "language": "python",
   "name": "python3"
  },
  "language_info": {
   "codemirror_mode": {
    "name": "ipython",
    "version": 3
   },
   "file_extension": ".py",
   "mimetype": "text/x-python",
   "name": "python",
   "nbconvert_exporter": "python",
   "pygments_lexer": "ipython3",
   "version": "3.9.12"
  }
 },
 "nbformat": 4,
 "nbformat_minor": 5
}
