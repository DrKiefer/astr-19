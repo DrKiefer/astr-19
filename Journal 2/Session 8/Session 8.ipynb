{
 "cells": [
  {
   "cell_type": "markdown",
   "id": "915cff69",
   "metadata": {},
   "source": [
    "the function below initializes matplot lib and numpy"
   ]
  },
  {
   "cell_type": "code",
   "execution_count": null,
   "id": "484caab3",
   "metadata": {},
   "outputs": [],
   "source": [
    "%matplotlib inline\n",
    "import numpy as np\n",
    "import matplotlib.pyplot as plt"
   ]
  },
  {
   "cell_type": "markdown",
   "id": "96a301dd",
   "metadata": {},
   "source": [
    "the below function creates an array of 100 integers between 0 and 1 with 100 increments"
   ]
  },
  {
   "cell_type": "code",
   "execution_count": null,
   "id": "bddb7d74",
   "metadata": {},
   "outputs": [],
   "source": [
    "x = np.linspace(0,1,100)"
   ]
  },
  {
   "cell_type": "markdown",
   "id": "91132338",
   "metadata": {},
   "source": [
    "the below function creates a sin and cosine arrays for the x array"
   ]
  },
  {
   "cell_type": "code",
   "execution_count": null,
   "id": "c01e5eba",
   "metadata": {},
   "outputs": [],
   "source": [
    "sinX = np.sin(x)\n",
    "cosX = np.cos(x)"
   ]
  },
  {
   "cell_type": "markdown",
   "id": "5d6b3780",
   "metadata": {},
   "source": [
    "the below function creates two plots and sets the titles and labels respectively"
   ]
  },
  {
   "cell_type": "code",
   "execution_count": null,
   "id": "22b4189b",
   "metadata": {},
   "outputs": [],
   "source": [
    "f, arr = plt.subplots(1, 2)\n",
    "arr[0].plot(x, sinX)\n",
    "arr[0].set_xlabel('X')\n",
    "arr[0].set_ylabel('sin(x)')\n",
    "arr[0].set_title('X vs sin(X)')\n",
    "\n",
    "arr[1].plot(x, cosX)\n",
    "arr[1].set_xlabel('X')\n",
    "arr[1].set_ylabel('cos(x)')\n",
    "arr[1].set_title('X vs cos(x)')\n",
    "\n",
    "\n",
    "f.subplots_adjust(wspace=0.4)\n",
    "\n",
    "f.savefig('session8.pdf', dpi=600)"
   ]
  }
 ],
 "metadata": {
  "kernelspec": {
   "display_name": "Python 3 (ipykernel)",
   "language": "python",
   "name": "python3"
  },
  "language_info": {
   "codemirror_mode": {
    "name": "ipython",
    "version": 3
   },
   "file_extension": ".py",
   "mimetype": "text/x-python",
   "name": "python",
   "nbconvert_exporter": "python",
   "pygments_lexer": "ipython3",
   "version": "3.9.12"
  }
 },
 "nbformat": 4,
 "nbformat_minor": 5
}
