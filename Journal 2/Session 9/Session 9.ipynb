{
 "cells": [
  {
   "cell_type": "markdown",
   "id": "9bedc531",
   "metadata": {},
   "source": [
    "the below function  initializes matplotlib and numpy"
   ]
  },
  {
   "cell_type": "code",
   "execution_count": 1,
   "id": "c330a59a",
   "metadata": {},
   "outputs": [],
   "source": [
    "%matplotlib inline\n",
    "import numpy as np\n",
    "import matplotlib.pyplot as plt"
   ]
  },
  {
   "cell_type": "markdown",
   "id": "ca83c4ab",
   "metadata": {},
   "source": [
    "the below function sets x to be a random uniform array of numbers between 0 and 1 with 1000 random variates"
   ]
  },
  {
   "cell_type": "code",
   "execution_count": 3,
   "id": "5e87bfa5",
   "metadata": {},
   "outputs": [],
   "source": [
    "x = np.random.uniform(0,1,1000)"
   ]
  },
  {
   "cell_type": "markdown",
   "id": "665618fa",
   "metadata": {},
   "source": [
    "the below function plots the histogram using our random X values and 100 bins. the x and y labels are labeled respectively"
   ]
  },
  {
   "cell_type": "code",
   "execution_count": 17,
   "id": "fb11e858",
   "metadata": {
    "scrolled": true
   },
   "outputs": [
    {
     "data": {
      "image/png": "[encoded data removed]",
      "text/plain": [
       "<Figure size 432x288 with 1 Axes>"
      ]
     },
     "metadata": {
      "needs_background": "light"
     },
     "output_type": "display_data"
    }
   ],
   "source": [
    "bins = plt.hist(x, bins=100)\n",
    "plt.xlabel(\"Random Uniform X\")\n",
    "plt.ylabel(\"Frequency\")\n",
    "plt.savefig('session9.pdf', dpi=600)"
   ]
  },
  {
   "cell_type": "code",
   "execution_count": null,
   "id": "9660f67d",
   "metadata": {},
   "outputs": [],
   "source": []
  }
 ],
 "metadata": {
  "kernelspec": {
   "display_name": "Python 3 (ipykernel)",
   "language": "python",
   "name": "python3"
  },
  "language_info": {
   "codemirror_mode": {
    "name": "ipython",
    "version": 3
   },
   "file_extension": ".py",
   "mimetype": "text/x-python",
   "name": "python",
   "nbconvert_exporter": "python",
   "pygments_lexer": "ipython3",
   "version": "3.9.12"
  }
 },
 "nbformat": 4,
 "nbformat_minor": 5
}
