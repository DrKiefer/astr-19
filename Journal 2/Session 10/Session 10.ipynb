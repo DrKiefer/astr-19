{
 "cells": [
  {
   "cell_type": "markdown",
   "id": "3d133815",
   "metadata": {},
   "source": [
    "The below function initializs matplotlib and numpy"
   ]
  },
  {
   "cell_type": "code",
   "execution_count": null,
   "id": "82bb6d24",
   "metadata": {},
   "outputs": [],
   "source": [
    "%matplotlib inline\n",
    "import numpy as np\n",
    "import matplotlib.pyplot as plt"
   ]
  },
  {
   "cell_type": "markdown",
   "id": "ccad6572",
   "metadata": {},
   "source": [
    "The below function designates variable x as a random gumbel array"
   ]
  },
  {
   "cell_type": "code",
   "execution_count": null,
   "id": "d3c832f6",
   "metadata": {},
   "outputs": [],
   "source": [
    "x = np.random.gumbel(0,20,1000)"
   ]
  },
  {
   "cell_type": "markdown",
   "id": "cf352143",
   "metadata": {},
   "source": [
    "The functions below create a histogram with 100 bins and label the axis respectively. "
   ]
  },
  {
   "cell_type": "code",
   "execution_count": 12,
   "id": "75582acc",
   "metadata": {},
   "outputs": [
    {
     "data": {
      "image/png": "[encoded data removed]",
      "text/plain": [
       "<Figure size 432x288 with 1 Axes>"
      ]
     },
     "metadata": {
      "needs_background": "light"
     },
     "output_type": "display_data"
    }
   ],
   "source": [
    "bins = plt.hist(x, bins=100)\n",
    "plt.xlabel(\"Random Gumbel X\")\n",
    "plt.ylabel(\"Frequency\")\n",
    "plt.savefig('session10.pdf', dpi=600)"
   ]
  },
  {
   "cell_type": "code",
   "execution_count": null,
   "id": "63d14a4e",
   "metadata": {},
   "outputs": [],
   "source": []
  }
 ],
 "metadata": {
  "kernelspec": {
   "display_name": "Python 3 (ipykernel)",
   "language": "python",
   "name": "python3"
  },
  "language_info": {
   "codemirror_mode": {
    "name": "ipython",
    "version": 3
   },
   "file_extension": ".py",
   "mimetype": "text/x-python",
   "name": "python",
   "nbconvert_exporter": "python",
   "pygments_lexer": "ipython3",
   "version": "3.9.12"
  }
 },
 "nbformat": 4,
 "nbformat_minor": 5
}
